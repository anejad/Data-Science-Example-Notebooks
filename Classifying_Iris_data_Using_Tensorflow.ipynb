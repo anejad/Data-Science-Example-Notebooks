{
 "cells": [
  {
   "cell_type": "markdown",
   "metadata": {},
   "source": [
    "# Classifying Iris data Using Tensorflow\n",
    "***"
   ]
  },
  {
   "cell_type": "code",
   "execution_count": 1,
   "metadata": {},
   "outputs": [],
   "source": [
    "import pandas as pd\n",
    "import numpy as np\n",
    "import matplotlib.pyplot as plt\n",
    "import seaborn as sns\n",
    "from sklearn.model_selection import train_test_split\n",
    "from sklearn.preprocessing import OneHotEncoder\n",
    "import tensorflow as tf\n",
    "from sklearn.metrics import classification_report\n",
    "from sklearn.metrics import confusion_matrix\n",
    "from sklearn.utils.multiclass import unique_labels\n",
    "sns.set(font_scale =1.5)\n",
    "plt.style.use('fivethirtyeight')"
   ]
  },
  {
   "cell_type": "code",
   "execution_count": 2,
   "metadata": {},
   "outputs": [],
   "source": [
    "# Importing the data from local disk\n",
    "data=pd.read_csv('./data/iris/iris.csv', names=['sepal length','sepal width','petal length','petal width'])\n",
    "target=pd.read_csv('./data/iris/target.csv', names=['target']).astype(int)"
   ]
  },
  {
   "cell_type": "code",
   "execution_count": 3,
   "metadata": {},
   "outputs": [
    {
     "data": {
      "text/plain": [
       "(150, 4)"
      ]
     },
     "execution_count": 3,
     "metadata": {},
     "output_type": "execute_result"
    }
   ],
   "source": [
    "data.shape"
   ]
  },
  {
   "cell_type": "code",
   "execution_count": 4,
   "metadata": {},
   "outputs": [
    {
     "data": {
      "text/plain": [
       "(150, 1)"
      ]
     },
     "execution_count": 4,
     "metadata": {},
     "output_type": "execute_result"
    }
   ],
   "source": [
    "target.shape"
   ]
  },
  {
   "cell_type": "code",
   "execution_count": 5,
   "metadata": {},
   "outputs": [
    {
     "data": {
      "text/html": [
       "<div>\n",
       "<style scoped>\n",
       "    .dataframe tbody tr th:only-of-type {\n",
       "        vertical-align: middle;\n",
       "    }\n",
       "\n",
       "    .dataframe tbody tr th {\n",
       "        vertical-align: top;\n",
       "    }\n",
       "\n",
       "    .dataframe thead th {\n",
       "        text-align: right;\n",
       "    }\n",
       "</style>\n",
       "<table border=\"1\" class=\"dataframe\">\n",
       "  <thead>\n",
       "    <tr style=\"text-align: right;\">\n",
       "      <th></th>\n",
       "      <th>sepal length</th>\n",
       "      <th>sepal width</th>\n",
       "      <th>petal length</th>\n",
       "      <th>petal width</th>\n",
       "    </tr>\n",
       "  </thead>\n",
       "  <tbody>\n",
       "    <tr>\n",
       "      <th>count</th>\n",
       "      <td>150.000000</td>\n",
       "      <td>150.000000</td>\n",
       "      <td>150.000000</td>\n",
       "      <td>150.000000</td>\n",
       "    </tr>\n",
       "    <tr>\n",
       "      <th>mean</th>\n",
       "      <td>5.843333</td>\n",
       "      <td>3.054000</td>\n",
       "      <td>3.758667</td>\n",
       "      <td>1.198667</td>\n",
       "    </tr>\n",
       "    <tr>\n",
       "      <th>std</th>\n",
       "      <td>0.828066</td>\n",
       "      <td>0.433594</td>\n",
       "      <td>1.764420</td>\n",
       "      <td>0.763161</td>\n",
       "    </tr>\n",
       "    <tr>\n",
       "      <th>min</th>\n",
       "      <td>4.300000</td>\n",
       "      <td>2.000000</td>\n",
       "      <td>1.000000</td>\n",
       "      <td>0.100000</td>\n",
       "    </tr>\n",
       "    <tr>\n",
       "      <th>25%</th>\n",
       "      <td>5.100000</td>\n",
       "      <td>2.800000</td>\n",
       "      <td>1.600000</td>\n",
       "      <td>0.300000</td>\n",
       "    </tr>\n",
       "    <tr>\n",
       "      <th>50%</th>\n",
       "      <td>5.800000</td>\n",
       "      <td>3.000000</td>\n",
       "      <td>4.350000</td>\n",
       "      <td>1.300000</td>\n",
       "    </tr>\n",
       "    <tr>\n",
       "      <th>75%</th>\n",
       "      <td>6.400000</td>\n",
       "      <td>3.300000</td>\n",
       "      <td>5.100000</td>\n",
       "      <td>1.800000</td>\n",
       "    </tr>\n",
       "    <tr>\n",
       "      <th>max</th>\n",
       "      <td>7.900000</td>\n",
       "      <td>4.400000</td>\n",
       "      <td>6.900000</td>\n",
       "      <td>2.500000</td>\n",
       "    </tr>\n",
       "  </tbody>\n",
       "</table>\n",
       "</div>"
      ],
      "text/plain": [
       "       sepal length  sepal width  petal length  petal width\n",
       "count    150.000000   150.000000    150.000000   150.000000\n",
       "mean       5.843333     3.054000      3.758667     1.198667\n",
       "std        0.828066     0.433594      1.764420     0.763161\n",
       "min        4.300000     2.000000      1.000000     0.100000\n",
       "25%        5.100000     2.800000      1.600000     0.300000\n",
       "50%        5.800000     3.000000      4.350000     1.300000\n",
       "75%        6.400000     3.300000      5.100000     1.800000\n",
       "max        7.900000     4.400000      6.900000     2.500000"
      ]
     },
     "execution_count": 5,
     "metadata": {},
     "output_type": "execute_result"
    }
   ],
   "source": [
    "data.describe()"
   ]
  },
  {
   "cell_type": "code",
   "execution_count": 6,
   "metadata": {},
   "outputs": [],
   "source": [
    "#treating Inputs adding bias to the data \n",
    "# all inputs and outputs need to be in numpy array format\n",
    "L,W=data.shape\n",
    "X=np.ones((L,W+ 1))\n",
    "X[:, 1:] = data.values\n",
    "X[0:5,:]\n",
    "X_raw=X"
   ]
  },
  {
   "cell_type": "code",
   "execution_count": 7,
   "metadata": {
    "scrolled": false
   },
   "outputs": [],
   "source": [
    "#treating the target variables\n",
    "# all inputs and outputs need to be in numpy array format\n",
    "enc = OneHotEncoder(handle_unknown='ignore')\n",
    "Y=enc.fit_transform(target).toarray()\n",
    "Y[0:5,:]\n",
    "Y_raw=Y"
   ]
  },
  {
   "cell_type": "code",
   "execution_count": 8,
   "metadata": {},
   "outputs": [],
   "source": [
    "train_x, test_x, train_y, test_y =train_test_split(X, Y, test_size=0.33, random_state=40)"
   ]
  },
  {
   "cell_type": "markdown",
   "metadata": {},
   "source": [
    "### Functions:"
   ]
  },
  {
   "cell_type": "code",
   "execution_count": 9,
   "metadata": {},
   "outputs": [],
   "source": [
    "# Weights are chosen from random normal distribution\n",
    "def initialize_weights(shape, stddev):\n",
    "    weights = tf.random_normal(shape, stddev=stddev)\n",
    "    return tf.Variable(weights)"
   ]
  },
  {
   "cell_type": "code",
   "execution_count": 10,
   "metadata": {},
   "outputs": [],
   "source": [
    "# Forward propagation in our network\n",
    "#  this network only has ONE hidden layer hence we have 2 set of weights:\n",
    "# input weights\n",
    "# output weights\n",
    "def forward_propagation(X, weights_1, weights_2):\n",
    "    sigmoid = tf.nn.sigmoid(tf.matmul(X, weights_1))\n",
    "    y = tf.matmul(sigmoid, weights_2)\n",
    "    return y"
   ]
  },
  {
   "cell_type": "code",
   "execution_count": 11,
   "metadata": {},
   "outputs": [],
   "source": [
    "# building a feed forward neural network with 128 hidden layers:\n",
    "h_size=128\n",
    "# standard deviation for weights 0.1:\n",
    "stddev=0.1\n",
    "\n",
    "# 1) define layer sizes\n",
    "x_size = train_x.shape[1]  \n",
    "y_size = train_y.shape[1]\n",
    "\n",
    "# 2) define variables\n",
    "X = tf.placeholder(\"float\", shape=[None, x_size])\n",
    "y = tf.placeholder(\"float\", shape=[None, y_size])\n",
    "\n",
    "# 3) initate weights\n",
    "weights_1 = initialize_weights((x_size, h_size), stddev)\n",
    "weights_2 = initialize_weights((h_size, y_size), stddev)"
   ]
  },
  {
   "cell_type": "code",
   "execution_count": 12,
   "metadata": {},
   "outputs": [
    {
     "name": "stdout",
     "output_type": "stream",
     "text": [
      "WARNING:tensorflow:From <ipython-input-12-5eac52a51654>:6: calling argmax (from tensorflow.python.ops.math_ops) with dimension is deprecated and will be removed in a future version.\n",
      "Instructions for updating:\n",
      "Use the `axis` argument instead\n",
      "WARNING:tensorflow:From <ipython-input-12-5eac52a51654>:8: softmax_cross_entropy_with_logits (from tensorflow.python.ops.nn_ops) is deprecated and will be removed in a future version.\n",
      "Instructions for updating:\n",
      "\n",
      "Future major versions of TensorFlow will allow gradients to flow\n",
      "into the labels input on backprop by default.\n",
      "\n",
      "See `tf.nn.softmax_cross_entropy_with_logits_v2`.\n",
      "\n"
     ]
    }
   ],
   "source": [
    "# sgd step: step length toward converging\n",
    "sgd_step=0.01\n",
    "# now we will forward propagate once to initate learning\n",
    "y_pred = forward_propagation(X, weights_1, weights_2)\n",
    "# fuind which class has highest probability\n",
    "predict = tf.argmax(y_pred, dimension=1)\n",
    "# define the cost function (cross entropy between actual label and predicted label)\n",
    "cost = tf.reduce_mean(tf.nn.softmax_cross_entropy_with_logits(labels=y, logits=y_pred))\n",
    "# train using stochastic gradient descent \n",
    "updates_sgd = tf.train.GradientDescentOptimizer(sgd_step).minimize(cost)"
   ]
  },
  {
   "cell_type": "code",
   "execution_count": 13,
   "metadata": {},
   "outputs": [
    {
     "name": "stdout",
     "output_type": "stream",
     "text": [
      "WARNING:tensorflow:From C:\\Users\\Dr.Amir\\Anaconda3\\lib\\site-packages\\tensorflow\\python\\util\\tf_should_use.py:189: initialize_all_variables (from tensorflow.python.ops.variables) is deprecated and will be removed after 2017-03-02.\n",
      "Instructions for updating:\n",
      "Use `tf.global_variables_initializer` instead.\n",
      "Step, train accuracy, test accuracy\n",
      "1, 35.00%, 30.00%\n",
      "2, 62.00%, 62.00%\n",
      "3, 67.00%, 66.00%\n",
      "4, 67.00%, 66.00%\n",
      "5, 67.00%, 66.00%\n",
      "6, 67.00%, 66.00%\n",
      "7, 67.00%, 66.00%\n",
      "8, 67.00%, 66.00%\n",
      "9, 67.00%, 66.00%\n",
      "10, 67.00%, 66.00%\n",
      "11, 67.00%, 66.00%\n",
      "12, 67.00%, 66.00%\n",
      "13, 67.00%, 66.00%\n",
      "14, 67.00%, 68.00%\n",
      "15, 67.00%, 68.00%\n",
      "16, 68.00%, 70.00%\n",
      "17, 68.00%, 72.00%\n",
      "18, 69.00%, 72.00%\n",
      "19, 72.00%, 72.00%\n",
      "20, 75.00%, 72.00%\n",
      "21, 75.00%, 74.00%\n",
      "22, 76.00%, 78.00%\n",
      "23, 79.00%, 82.00%\n",
      "24, 79.00%, 82.00%\n",
      "25, 79.00%, 84.00%\n",
      "26, 81.00%, 86.00%\n",
      "27, 81.00%, 86.00%\n",
      "28, 84.00%, 86.00%\n",
      "29, 84.00%, 86.00%\n",
      "30, 84.00%, 90.00%\n",
      "31, 85.00%, 90.00%\n",
      "32, 87.00%, 92.00%\n",
      "33, 88.00%, 92.00%\n",
      "34, 90.00%, 92.00%\n",
      "35, 90.00%, 92.00%\n",
      "36, 90.00%, 92.00%\n",
      "37, 91.00%, 92.00%\n",
      "38, 92.00%, 92.00%\n",
      "39, 92.00%, 92.00%\n",
      "40, 92.00%, 92.00%\n",
      "41, 93.00%, 92.00%\n",
      "42, 94.00%, 92.00%\n",
      "43, 94.00%, 92.00%\n",
      "44, 94.00%, 92.00%\n",
      "45, 95.00%, 92.00%\n",
      "46, 95.00%, 92.00%\n",
      "47, 95.00%, 92.00%\n",
      "48, 96.00%, 92.00%\n",
      "49, 96.00%, 92.00%\n",
      "50, 96.00%, 92.00%\n"
     ]
    }
   ],
   "source": [
    "# opening a new tensrflow session\n",
    "sess = tf.Session()\n",
    "# Add ops to save and restore all the variables.\n",
    "saver = tf.train.Saver()\n",
    "# initating all variables\n",
    "init = tf.initialize_all_variables()\n",
    "# 50 epocs \n",
    "steps = 50\n",
    "sess.run(init)\n",
    "# epocs for visualizng\n",
    "x  = np.arange(steps)\n",
    "test_acc = []\n",
    "train_acc = []\n",
    "print(\"Step, train accuracy, test accuracy\")\n",
    "# looping through each epoc    \n",
    "for step in range(steps):\n",
    "    for i in range(len(train_x)):\n",
    "        #feeding each training sample one by one\n",
    "        sess.run(updates_sgd, feed_dict={X: train_x[i: i + 1], y: train_y[i: i + 1]})\n",
    "    train_accuracy = np.mean(np.argmax(train_y, axis=1) == sess.run(predict, feed_dict={X: train_x, y: train_y}))\n",
    "    test_accuracy = np.mean(np.argmax(test_y, axis=1) ==sess.run(predict, feed_dict={X: test_x, y: test_y}))\n",
    "    print(\"%d, %.2f%%, %.2f%%\"% (step + 1, 100. * train_accuracy, 100. * test_accuracy))\n",
    "    test_acc.append(100. * test_accuracy)\n",
    "    train_acc.append(100. * train_accuracy)\n",
    "t =pd.DataFrame(index=np.arange(steps),columns=['Test Accuracy', 'Train Accuracy']) \n",
    "t['Test Accuracy']=np.array(test_acc)\n",
    "t[ 'Train Accuracy']=np.array(train_acc)\n",
    "title = \"Steps vs Accuracy-No of hidden nodes: \" + str(h_size) + \", sgd step:\" + str(sgd_step) + \\\n",
    "        \", std dev:\" + str(stddev)"
   ]
  },
  {
   "cell_type": "code",
   "execution_count": 14,
   "metadata": {},
   "outputs": [
    {
     "data": {
      "image/png": "[encoded data removed]",
      "text/plain": [
       "<Figure size 720x576 with 1 Axes>"
      ]
     },
     "metadata": {
      "needs_background": "light"
     },
     "output_type": "display_data"
    }
   ],
   "source": [
    "plt.figure(figsize=(10,8))\n",
    "plt.plot(t,'-o');\n",
    "plt.legend(t.columns);\n",
    "plt.xlabel('Epoc');\n",
    "plt.ylabel('Acuuracy');\n",
    "plt.title('Iris Data Classification using Tensorflow');"
   ]
  },
  {
   "cell_type": "markdown",
   "metadata": {},
   "source": [
    "### Confusion matrix:"
   ]
  },
  {
   "cell_type": "code",
   "execution_count": 15,
   "metadata": {},
   "outputs": [],
   "source": [
    "iris_data=data.merge(target,left_index=True, right_index=True)\n",
    "target_classes={0:'Setosa',1:'Versicolour',2:'Virginica'}\n",
    "iris_data=iris_data.replace({\"target\": target_classes})"
   ]
  },
  {
   "cell_type": "code",
   "execution_count": 16,
   "metadata": {},
   "outputs": [],
   "source": [
    "def plot_confusion_matrix(y_true, y_pred, classes,\n",
    "                          normalize=False,\n",
    "                          title=None,\n",
    "                          cmap=plt.cm.Blues):\n",
    "    \"\"\"\n",
    "    This function prints and plots the confusion matrix.\n",
    "    Normalization can be applied by setting `normalize=True`.\n",
    "    \"\"\"\n",
    "    if not title:\n",
    "        if normalize:\n",
    "            title = 'Normalized confusion matrix'\n",
    "        else:\n",
    "            title = 'Confusion matrix, without normalization'\n",
    "\n",
    "    # Compute confusion matrix\n",
    "    cm = confusion_matrix(y_true, y_pred)\n",
    "    # Only use the labels that appear in the data\n",
    "    classes = classes[unique_labels(y_true, y_pred)]\n",
    "    if normalize:\n",
    "        cm = cm.astype('float') / cm.sum(axis=1)[:, np.newaxis]\n",
    "        #print(\"Normalized confusion matrix\")\n",
    "    else:\n",
    "        pass\n",
    "        #print('Confusion matrix, without normalization')\n",
    "\n",
    "\n",
    "    fig, ax = plt.subplots(figsize=(7,7))\n",
    "    im = ax.imshow(cm, interpolation='nearest', cmap=cmap)\n",
    "    ax.figure.colorbar(im, ax=ax)\n",
    "    # We want to show all ticks...\n",
    "    ax.set(xticks=np.arange(cm.shape[1]),\n",
    "           yticks=np.arange(cm.shape[0]),\n",
    "           # ... and label them with the respective list entries\n",
    "           xticklabels=classes, yticklabels=classes,\n",
    "           title=title,\n",
    "           ylabel='True label',\n",
    "           xlabel='Predicted label')\n",
    "\n",
    "    # Rotate the tick labels and set their alignment.\n",
    "    plt.setp(ax.get_xticklabels(), rotation=45, ha=\"right\",\n",
    "             rotation_mode=\"anchor\")\n",
    "\n",
    "    # Loop over data dimensions and create text annotations.\n",
    "    fmt = '.2f' if normalize else 'd'\n",
    "    thresh = cm.max() / 2.\n",
    "    for i in range(cm.shape[0]):\n",
    "        for j in range(cm.shape[1]):\n",
    "            ax.text(j, i, format(cm[i, j], fmt),\n",
    "                    ha=\"center\", va=\"center\",\n",
    "                    color=\"white\" if cm[i, j] > thresh else \"black\")\n",
    "    fig.tight_layout()\n",
    "    ax.grid(False)\n",
    "    return ax"
   ]
  },
  {
   "cell_type": "code",
   "execution_count": 17,
   "metadata": {},
   "outputs": [
    {
     "data": {
      "image/png": "[encoded data removed]",
      "text/plain": [
       "<Figure size 504x504 with 2 Axes>"
      ]
     },
     "metadata": {
      "needs_background": "light"
     },
     "output_type": "display_data"
    }
   ],
   "source": [
    "y_pred=pd.DataFrame(sess.run(predict, feed_dict={X: X_raw, y: Y_raw}),columns=['Preds'])\n",
    "plot_confusion_matrix(target,y_pred,classes=pd.unique(iris_data['target'].values), normalize=True,\n",
    "                      title='Normalized confusion matrix');"
   ]
  },
  {
   "cell_type": "code",
   "execution_count": 18,
   "metadata": {},
   "outputs": [
    {
     "name": "stdout",
     "output_type": "stream",
     "text": [
      "              precision    recall  f1-score   support\n",
      "\n",
      "      Setosa       1.00      1.00      1.00        50\n",
      " Versicolour       0.86      1.00      0.93        50\n",
      "   Virginica       1.00      0.84      0.91        50\n",
      "\n",
      "   micro avg       0.95      0.95      0.95       150\n",
      "   macro avg       0.95      0.95      0.95       150\n",
      "weighted avg       0.95      0.95      0.95       150\n",
      "\n"
     ]
    }
   ],
   "source": [
    "print(classification_report(target, y_pred.values, target_names=pd.unique(iris_data['target'].values)))"
   ]
  },
  {
   "cell_type": "markdown",
   "metadata": {},
   "source": [
    "### Saving Model to Disk"
   ]
  },
  {
   "cell_type": "code",
   "execution_count": 19,
   "metadata": {},
   "outputs": [],
   "source": [
    "# Save the variables to disk.\n",
    "save_path = saver.save(sess, \"./data/iris/model.ckpt\")"
   ]
  },
  {
   "cell_type": "markdown",
   "metadata": {},
   "source": [
    "### Restor Model from Disk"
   ]
  },
  {
   "cell_type": "code",
   "execution_count": 20,
   "metadata": {},
   "outputs": [],
   "source": [
    "Restor=False\n",
    "\n",
    "if Restor:\n",
    "\n",
    "    tf.reset_default_graph()\n",
    "    # Add ops to save and restore all the variables.\n",
    "    saver = tf.train.Saver()\n",
    "    # Later, launch the model, use the saver to restore variables from disk, and\n",
    "    # opening a new tensrflow session\n",
    "    sess = tf.Session()\n",
    "    # Restore variables from disk.\n",
    "    saver.restore(sess, \"./data/iris/model.ckpt\")"
   ]
  },
  {
   "cell_type": "markdown",
   "metadata": {},
   "source": [
    "### Training vs SGD Steps"
   ]
  },
  {
   "cell_type": "code",
   "execution_count": 21,
   "metadata": {},
   "outputs": [],
   "source": [
    "def train_ff(sgd_step):\n",
    "    tf.reset_default_graph();\n",
    "    x_size = train_x.shape[1]  \n",
    "    y_size = train_y.shape[1]\n",
    "    X = tf.placeholder(\"float\", shape=[None, x_size])\n",
    "    y = tf.placeholder(\"float\", shape=[None, y_size])\n",
    "    weights_1 = initialize_weights((x_size, h_size), stddev)\n",
    "    weights_2 = initialize_weights((h_size, y_size), stddev)\n",
    "    y_pred = forward_propagation(X, weights_1, weights_2)\n",
    "    predict = tf.argmax(y_pred, dimension=1)\n",
    "    cost = tf.reduce_mean(tf.nn.softmax_cross_entropy_with_logits(labels=y, logits=y_pred)) \n",
    "    updates_sgd = tf.train.GradientDescentOptimizer(sgd_step).minimize(cost)\n",
    "    # opening a new tensrflow session\n",
    "    sess = tf.Session()\n",
    "    # Add ops to save and restore all the variables.\n",
    "    saver = tf.train.Saver()\n",
    "    # initating all variables\n",
    "    init = tf.initialize_all_variables()\n",
    "    # 50 epocs \n",
    "    steps = 50\n",
    "    sess.run(init)\n",
    "    # epocs for visualizng\n",
    "    x  = np.arange(steps)\n",
    "    test_acc = []\n",
    "    train_acc = []\n",
    "    for step in range(steps):\n",
    "        for i in range(len(train_x)):\n",
    "            #feeding each training sample one by one\n",
    "            sess.run(updates_sgd, feed_dict={X: train_x[i: i + 1], y: train_y[i: i + 1]})\n",
    "        train_accuracy = np.mean(np.argmax(train_y, axis=1) == sess.run(predict, feed_dict={X: train_x, y: train_y}))\n",
    "        test_accuracy = np.mean(np.argmax(test_y, axis=1) ==sess.run(predict, feed_dict={X: test_x, y: test_y}))\n",
    "        test_acc.append(100. * test_accuracy)\n",
    "        train_acc.append(100. * train_accuracy)\n",
    "    return train_acc,test_acc\n",
    "\n",
    "    "
   ]
  },
  {
   "cell_type": "code",
   "execution_count": 22,
   "metadata": {},
   "outputs": [],
   "source": [
    "train=pd.DataFrame(index=np.arange(steps),columns=[0.01,0.02,0.03])\n",
    "for step in [0.01,0.02,0.03]:\n",
    "    t,tt=train_ff(0.03)\n",
    "    train[step]=t"
   ]
  },
  {
   "cell_type": "code",
   "execution_count": 23,
   "metadata": {},
   "outputs": [
    {
     "data": {
      "image/png": "[encoded data removed]",
      "text/plain": [
       "<Figure size 720x576 with 1 Axes>"
      ]
     },
     "metadata": {
      "needs_background": "light"
     },
     "output_type": "display_data"
    }
   ],
   "source": [
    "plt.figure(figsize=(10,8))\n",
    "plt.plot(train,'-o');\n",
    "plt.legend(train.columns);\n",
    "plt.xlabel('Epoc');\n",
    "plt.ylabel('Acuuracy');\n",
    "plt.title('Iris Data Classification using Tensorflow-SGD Step Effect');"
   ]
  }
 ],
 "metadata": {
  "kernelspec": {
   "display_name": "Python 3",
   "language": "python",
   "name": "python3"
  },
  "language_info": {
   "codemirror_mode": {
    "name": "ipython",
    "version": 3
   },
   "file_extension": ".py",
   "mimetype": "text/x-python",
   "name": "python",
   "nbconvert_exporter": "python",
   "pygments_lexer": "ipython3",
   "version": "3.6.9"
  }
 },
 "nbformat": 4,
 "nbformat_minor": 2
}
